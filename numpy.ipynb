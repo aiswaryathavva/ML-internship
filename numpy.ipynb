{
  "nbformat": 4,
  "nbformat_minor": 0,
  "metadata": {
    "colab": {
      "provenance": [],
      "collapsed_sections": [],
      "include_colab_link": true
    },
    "kernelspec": {
      "name": "python3",
      "display_name": "Python 3"
    },
    "language_info": {
      "name": "python"
    }
  },
  "cells": [
    {
      "cell_type": "markdown",
      "metadata": {
        "id": "view-in-github",
        "colab_type": "text"
      },
      "source": [
        "<a href=\"https://colab.research.google.com/github/aiswaryathavva/ML-prajwal-sir/blob/main/numpy.ipynb\" target=\"_parent\"><img src=\"https://colab.research.google.com/assets/colab-badge.svg\" alt=\"Open In Colab\"/></a>"
      ]
    },
    {
      "cell_type": "code",
      "execution_count": null,
      "metadata": {
        "colab": {
          "base_uri": "https://localhost:8080/"
        },
        "id": "x0eSbXyJ_o_-",
        "outputId": "c1fc2f69-b485-4d79-cafd-968c11926ca8"
      },
      "outputs": [
        {
          "output_type": "stream",
          "name": "stdout",
          "text": [
            "[[1 2]\n",
            " [3 4]\n",
            " [5 6]\n",
            " [7 8]]\n"
          ]
        }
      ],
      "source": [
        "import numpy as np\n",
        "matrix=np.array([[1,2],[3,4],[5,6],[7,8]])\n",
        "print(matrix)"
      ]
    },
    {
      "cell_type": "code",
      "source": [
        "print(matrix.shape)"
      ],
      "metadata": {
        "colab": {
          "base_uri": "https://localhost:8080/"
        },
        "id": "LIMc9uYqAM2d",
        "outputId": "fcc2cf81-f3a9-4e51-d411-6eeca5dcb429"
      },
      "execution_count": null,
      "outputs": [
        {
          "output_type": "stream",
          "name": "stdout",
          "text": [
            "(4, 2)\n"
          ]
        }
      ]
    },
    {
      "cell_type": "code",
      "source": [
        "print(matrix.ndim)"
      ],
      "metadata": {
        "colab": {
          "base_uri": "https://localhost:8080/"
        },
        "id": "Wcf_61FKAh0-",
        "outputId": "e57db7ef-0b69-485a-899d-2d562c5c2ec2"
      },
      "execution_count": null,
      "outputs": [
        {
          "output_type": "stream",
          "name": "stdout",
          "text": [
            "2\n"
          ]
        }
      ]
    },
    {
      "cell_type": "code",
      "source": [
        "#print(matrix.dtype)\n",
        "\n",
        "print(matrix.itemsize)"
      ],
      "metadata": {
        "colab": {
          "base_uri": "https://localhost:8080/"
        },
        "id": "wKYrvd4pAkny",
        "outputId": "08e7a07e-fa63-4253-dbe7-d790e859f0e6"
      },
      "execution_count": null,
      "outputs": [
        {
          "output_type": "stream",
          "name": "stdout",
          "text": [
            "8\n"
          ]
        }
      ]
    },
    {
      "cell_type": "code",
      "source": [
        "mat2=np.array([[10.5,22.5,3.8,5],[23.45,50,78.7,3.5],[41,np.nan,np.nan,2.5],[18.8,50.60,8.8,58.6]])\n",
        "# print(np.isnan(mat2))\n",
        "# print(~np.isnan(mat2))\n",
        "# print(a[~np.isnan(mat2)])\n",
        "rem_val = mat2[~(np.isnan(mat2))]\n",
        "rem_val"
      ],
      "metadata": {
        "colab": {
          "base_uri": "https://localhost:8080/"
        },
        "id": "8uPy5tmaArUA",
        "outputId": "9b7fea60-bb10-46d7-87cd-080d18506de9"
      },
      "execution_count": null,
      "outputs": [
        {
          "output_type": "execute_result",
          "data": {
            "text/plain": [
              "array([10.5 , 22.5 ,  3.8 ,  5.  , 23.45, 50.  , 78.7 ,  3.5 , 41.  ,\n",
              "        2.5 , 18.8 , 50.6 ,  8.8 , 58.6 ])"
            ]
          },
          "metadata": {},
          "execution_count": 75
        }
      ]
    },
    {
      "cell_type": "code",
      "source": [
        "#print(mat2.dropna())"
      ],
      "metadata": {
        "id": "ws9lgsA1BR3J"
      },
      "execution_count": null,
      "outputs": []
    },
    {
      "cell_type": "code",
      "source": [
        "# numpy.delete(array, object, axis = None)\n",
        "# array   : [array_like]Input array. \n",
        "# object  : [int, array of ints]Sub-array to delete\n",
        "# axis    : Axis along which we want to delete sub-arrays. By default, it object is applied to  \n",
        "#                 flattened array\n",
        "\n",
        "\n",
        "#insert su=yntax\n",
        "# numpy.insert(arr, obj, values, axis)\t\n",
        "# arr:Input array\t\n",
        "# obj:The index before which insertion is to be made\t\n",
        "# values:The array of values to be inserted\t\n",
        "# axis:The axis along which to insert. If not given, the input array is flattened\n"
      ],
      "metadata": {
        "id": "_6ACaz3BSNp9"
      },
      "execution_count": null,
      "outputs": []
    },
    {
      "cell_type": "code",
      "source": [
        "#sample = np.array([[34,43,73],[82,22,12],[53,94,66]]) \n",
        "#print(sampleArray.replace(sampleArray[:2][[10,10,10]]))\n",
        "sample=np.array([[34,43,73],[82,22,12],[53,94,66]])\n",
        "newcolumn=np.array([[10,10,10]])\n",
        "deleted = np.delete(sample, 1, 0)\n",
        "arr=np.insert(deleted, 1, newcolumn, axis=0)\n",
        "print(arr)"
      ],
      "metadata": {
        "colab": {
          "base_uri": "https://localhost:8080/"
        },
        "id": "-niuNUsPBjBs",
        "outputId": "dbf91f6a-b2f2-4de6-cc0c-19efaec98320"
      },
      "execution_count": null,
      "outputs": [
        {
          "output_type": "stream",
          "name": "stdout",
          "text": [
            "[[34 43 73]\n",
            " [10 10 10]\n",
            " [53 94 66]]\n"
          ]
        }
      ]
    },
    {
      "cell_type": "code",
      "source": [
        "#Delete the second column from a given array and insert the following new column in its place.\n",
        "#sampleArray = numpy.array([[34,43,73],[82,22,12],[53,94,66]]) \n",
        "#newColumn = numpy.array([[10,10,10]])"
      ],
      "metadata": {
        "id": "WYZGM6CtDFNn"
      },
      "execution_count": null,
      "outputs": []
    },
    {
      "cell_type": "code",
      "source": [
        "#Convert all the elements of a numpy array from float to integer datatype [2.5, 3.8, 1.5],\n",
        "#              [4.7, 2.9, 1.56]]\n",
        "arr=np.array([ [2.5, 3.8, 1.5],\n",
        "              [4.7, 2.9, 1.56]])\n",
        "print(arr.astype(int))"
      ],
      "metadata": {
        "colab": {
          "base_uri": "https://localhost:8080/"
        },
        "id": "pdcKruYgES-u",
        "outputId": "aa7316dc-0335-423a-c307-f82e5323c37b"
      },
      "execution_count": null,
      "outputs": [
        {
          "output_type": "stream",
          "name": "stdout",
          "text": [
            "[[2 3 1]\n",
            " [4 2 1]]\n"
          ]
        }
      ]
    },
    {
      "cell_type": "code",
      "source": [
        "#Stack 2 numpy arrays horizontally and vertically    \n",
        "a1=np.array([[1,2,3],[4,5,6]])\n",
        "a2 = np.array([[7,8,9],[10,11,12]])\n",
        "np.hstack((a1,a2))\n",
        "\n",
        "\n",
        "#print(np.hstack(a1,a2))"
      ],
      "metadata": {
        "colab": {
          "base_uri": "https://localhost:8080/"
        },
        "id": "HZ9cpxXwEnD4",
        "outputId": "038ac225-750a-4c6c-ca1a-c267ed91ca67"
      },
      "execution_count": null,
      "outputs": [
        {
          "output_type": "execute_result",
          "data": {
            "text/plain": [
              "array([[ 1,  2,  3,  7,  8,  9],\n",
              "       [ 4,  5,  6, 10, 11, 12]])"
            ]
          },
          "metadata": {},
          "execution_count": 32
        }
      ]
    },
    {
      "cell_type": "code",
      "source": [
        "np.vstack((a1,a2))"
      ],
      "metadata": {
        "colab": {
          "base_uri": "https://localhost:8080/"
        },
        "id": "gXhXWNIQFwwk",
        "outputId": "20165ffc-1475-4bf5-9d5e-edc9162e0669"
      },
      "execution_count": null,
      "outputs": [
        {
          "output_type": "execute_result",
          "data": {
            "text/plain": [
              "array([[ 1,  2,  3],\n",
              "       [ 4,  5,  6],\n",
              "       [ 7,  8,  9],\n",
              "       [10, 11, 12]])"
            ]
          },
          "metadata": {},
          "execution_count": 33
        }
      ]
    },
    {
      "cell_type": "code",
      "source": [
        "mat3=np.array([[1,2],[3,4]])\n",
        "mat4=np.array([[5,6],[7,8]])\n",
        "print(np.dot(mat3,mat4))  #multiplication of matrices"
      ],
      "metadata": {
        "colab": {
          "base_uri": "https://localhost:8080/"
        },
        "id": "Tvq63bv6HDA-",
        "outputId": "9adfb40f-e5bd-482c-f0c7-f0d09e954b19"
      },
      "execution_count": null,
      "outputs": [
        {
          "output_type": "stream",
          "name": "stdout",
          "text": [
            "[[19 22]\n",
            " [43 50]]\n"
          ]
        }
      ]
    },
    {
      "cell_type": "code",
      "source": [
        "mat5=np.dot(mat3,mat4)\n",
        "print(mat5)\n",
        "mat5.transpose()      #transpose of a multiplied matrix\n"
      ],
      "metadata": {
        "colab": {
          "base_uri": "https://localhost:8080/"
        },
        "id": "jjcGGoCDHkgL",
        "outputId": "849fbec8-a9f3-4134-cbde-ccbf477fbe55"
      },
      "execution_count": null,
      "outputs": [
        {
          "output_type": "stream",
          "name": "stdout",
          "text": [
            "[[19 22]\n",
            " [43 50]]\n"
          ]
        },
        {
          "output_type": "execute_result",
          "data": {
            "text/plain": [
              "array([[19, 43],\n",
              "       [22, 50]])"
            ]
          },
          "metadata": {},
          "execution_count": 41
        }
      ]
    },
    {
      "cell_type": "code",
      "source": [
        "#In a numpy array replace all odd position numbers with -1?  [0, 1, 2, 3, 4, 5, 6, 7, 8, 9]\n",
        "rep_arr=np.array( [0, 1, 2, 3, 4, 5, 6, 7, 8, 9])\n",
        "# rep_arr[rep_arr%2==1]=-1\n",
        "# rep_arr\n",
        "\n",
        "\n",
        "#or\n",
        "for i in range(len(rep_arr)):\n",
        "  if(i%2==1):\n",
        "    rep_arr[i]=-1\n",
        "print(rep_arr)"
      ],
      "metadata": {
        "colab": {
          "base_uri": "https://localhost:8080/"
        },
        "id": "4QKMKXKmH0Dx",
        "outputId": "8e9e3821-6dd6-4563-86bd-7bd485e115fa"
      },
      "execution_count": null,
      "outputs": [
        {
          "output_type": "stream",
          "name": "stdout",
          "text": [
            "[ 0 -1  2 -1  4 -1  6 -1  8 -1]\n"
          ]
        }
      ]
    },
    {
      "cell_type": "code",
      "source": [
        "#Create a null vector of size 10 but the fifth value which is 1\n",
        "A=np.zeros(10)\n",
        "print(A)\n",
        "A[5]=1\n",
        "print(A)"
      ],
      "metadata": {
        "colab": {
          "base_uri": "https://localhost:8080/"
        },
        "id": "ieaU409kJm4R",
        "outputId": "323714a3-8f8d-45ed-c2b4-8d8c20b1ea17"
      },
      "execution_count": null,
      "outputs": [
        {
          "output_type": "stream",
          "name": "stdout",
          "text": [
            "[0. 0. 0. 0. 0. 0. 0. 0. 0. 0.]\n",
            "[0. 0. 0. 0. 0. 1. 0. 0. 0. 0.]\n"
          ]
        }
      ]
    },
    {
      "cell_type": "code",
      "source": [
        "#Create a 2d array with 1 on the border and 0 inside\n",
        "# d_arr=np.array([],[])\n",
        "# for i in range(len(d_arr)):\n",
        "#   for j in range(len(i)):\n",
        "\n",
        "#     if(i==0 or j==0 or i==len(d_arr)-1 or j==i-1):\n",
        "#       d_arr[i][j]=1\n",
        "#     else:\n",
        "#       d_arr[i][j]=0\n",
        "# print(d_arr)\n",
        "\n",
        "a = np.ones((4,4))\n",
        "a[1:-1,1:-1] = 0\n",
        "print(a)"
      ],
      "metadata": {
        "colab": {
          "base_uri": "https://localhost:8080/"
        },
        "id": "QNbda5oyJtJE",
        "outputId": "737a5738-9891-406b-9951-91c9b017d028"
      },
      "execution_count": null,
      "outputs": [
        {
          "output_type": "stream",
          "name": "stdout",
          "text": [
            "[[1. 1. 1. 1.]\n",
            " [1. 0. 0. 1.]\n",
            " [1. 0. 0. 1.]\n",
            " [1. 1. 1. 1.]]\n"
          ]
        }
      ]
    },
    {
      "cell_type": "code",
      "source": [
        "#Create a random vector of size 10 and sort it\n",
        "ran_arr=np.random.random(10)\n",
        "ran_arr"
      ],
      "metadata": {
        "colab": {
          "base_uri": "https://localhost:8080/"
        },
        "id": "gvcj35yILRLZ",
        "outputId": "1d920d9d-7d05-42ca-cdb7-05aa498c1bd1"
      },
      "execution_count": null,
      "outputs": [
        {
          "output_type": "execute_result",
          "data": {
            "text/plain": [
              "array([0.09814334, 0.16652827, 0.22572688, 0.17748026, 0.47719477,\n",
              "       0.34844255, 0.35573168, 0.53885518, 0.77045249, 0.9224242 ])"
            ]
          },
          "metadata": {},
          "execution_count": 52
        }
      ]
    },
    {
      "cell_type": "code",
      "source": [
        "ran_arr.sort()\n",
        "ran_arr"
      ],
      "metadata": {
        "colab": {
          "base_uri": "https://localhost:8080/"
        },
        "id": "baw9PpqiL0vD",
        "outputId": "c5e6c547-0447-419e-84f4-4eec7c63f2c8"
      },
      "execution_count": null,
      "outputs": [
        {
          "output_type": "execute_result",
          "data": {
            "text/plain": [
              "array([0.09814334, 0.16652827, 0.17748026, 0.22572688, 0.34844255,\n",
              "       0.35573168, 0.47719477, 0.53885518, 0.77045249, 0.9224242 ])"
            ]
          },
          "metadata": {},
          "execution_count": 54
        }
      ]
    },
    {
      "cell_type": "code",
      "source": [
        "ran_arr1=np.random.random(30)\n",
        "print(ran_arr1.mean())        #find mean of 30 random values"
      ],
      "metadata": {
        "colab": {
          "base_uri": "https://localhost:8080/"
        },
        "id": "OUSyp8mtL-J1",
        "outputId": "b193bcc9-af50-42ba-b768-be0a9b4d8d29"
      },
      "execution_count": null,
      "outputs": [
        {
          "output_type": "stream",
          "name": "stdout",
          "text": [
            "0.41291421265449296\n"
          ]
        }
      ]
    },
    {
      "cell_type": "code",
      "source": [
        "a=np.arange(100,200,10)\n",
        "a.reshape(5,2)"
      ],
      "metadata": {
        "colab": {
          "base_uri": "https://localhost:8080/"
        },
        "id": "TRiUgGn0Mcvx",
        "outputId": "413dc085-1846-496b-abff-fb239bcc61bc"
      },
      "execution_count": null,
      "outputs": [
        {
          "output_type": "execute_result",
          "data": {
            "text/plain": [
              "array([[100, 110],\n",
              "       [120, 130],\n",
              "       [140, 150],\n",
              "       [160, 170],\n",
              "       [180, 190]])"
            ]
          },
          "metadata": {},
          "execution_count": 64
        }
      ]
    },
    {
      "cell_type": "code",
      "source": [
        "import matplotlib.pyplot as plt\n",
        "arr1=np.array([[1,2],[3,4]])\n",
        "arr2=np.array([[10,20],[30,40]])\n",
        "plt.plot(arr1,arr2)          #create 2 2-D arrays and plot the graph using matplot library\n",
        "plt.show()"
      ],
      "metadata": {
        "colab": {
          "base_uri": "https://localhost:8080/",
          "height": 265
        },
        "id": "5zNAWWJBNuMP",
        "outputId": "9e7e384e-95c8-4720-f989-8fb7e0fdf712"
      },
      "execution_count": null,
      "outputs": [
        {
          "output_type": "display_data",
          "data": {
            "text/plain": [
              "<Figure size 432x288 with 1 Axes>"
            ],
            "image/png": "[encoded data removed]"
          },
          "metadata": {
            "needs_background": "light"
          }
        }
      ]
    },
    {
      "cell_type": "code",
      "source": [],
      "metadata": {
        "id": "WltccJZ3O9Mj"
      },
      "execution_count": null,
      "outputs": []
    }
  ]
}