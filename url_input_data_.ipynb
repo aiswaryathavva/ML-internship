{
  "nbformat": 4,
  "nbformat_minor": 0,
  "metadata": {
    "colab": {
      "provenance": [],
      "collapsed_sections": [],
      "authorship_tag": "ABX9TyNcQi2wHru6x1cLrzp7uwxb",
      "include_colab_link": true
    },
    "kernelspec": {
      "name": "python3",
      "display_name": "Python 3"
    },
    "language_info": {
      "name": "python"
    }
  },
  "cells": [
    {
      "cell_type": "markdown",
      "metadata": {
        "id": "view-in-github",
        "colab_type": "text"
      },
      "source": [
        "<a href=\"https://colab.research.google.com/github/aiswaryathavva/ML-prajwal-sir/blob/main/url_input_data_.ipynb\" target=\"_parent\"><img src=\"https://colab.research.google.com/assets/colab-badge.svg\" alt=\"Open In Colab\"/></a>"
      ]
    },
    {
      "cell_type": "code",
      "execution_count": null,
      "metadata": {
        "id": "egh-I8SfHV0R"
      },
      "outputs": [],
      "source": [
        "import pandas\n",
        "from sklearn import model_selection\n",
        "from sklearn.linear_model import LogisticRegression"
      ]
    },
    {
      "cell_type": "code",
      "source": [
        "import pickle\n",
        "url=\"https://raw.githubusercontent.com/jbrownlee/Datasets/master/pima-indians-diabetes.data.csv\"\n",
        "names=['preg','plas','pres','skin','test','mass','pedi','age','class']\n",
        "df=pandas.read_csv(url,names=names)\n",
        "array=df.values\n",
        "x=array[:,0:8]\n",
        "y=array[:,8]\n",
        "x_train,x_test,y_train,y_test=model_selection.train_test_split(x,y,test_size=0.30,random_state=7)\n",
        "\n",
        "#fit model on training set\n",
        "model=LogisticRegression()\n",
        "model.fit(x_train,y_train)\n",
        "#save the model using pickle\n",
        "filename=\"final_model.sav\"\n",
        "pickle.dump(model,open(filename,\"wb\"))\n",
        "\n",
        "loadmodel=pickle.load(open(filename,'rb'))\n",
        "result=loadmodel.score(x_test,y_test)\n",
        "print(result)"
      ],
      "metadata": {
        "colab": {
          "base_uri": "https://localhost:8080/"
        },
        "id": "ufellR8QHpNy",
        "outputId": "2814bdb0-fdda-4145-80ee-2dbf0d2cac75"
      },
      "execution_count": null,
      "outputs": [
        {
          "output_type": "stream",
          "name": "stdout",
          "text": [
            "0.7489177489177489\n"
          ]
        },
        {
          "output_type": "stream",
          "name": "stderr",
          "text": [
            "/usr/local/lib/python3.7/dist-packages/sklearn/linear_model/_logistic.py:818: ConvergenceWarning: lbfgs failed to converge (status=1):\n",
            "STOP: TOTAL NO. of ITERATIONS REACHED LIMIT.\n",
            "\n",
            "Increase the number of iterations (max_iter) or scale the data as shown in:\n",
            "    https://scikit-learn.org/stable/modules/preprocessing.html\n",
            "Please also refer to the documentation for alternative solver options:\n",
            "    https://scikit-learn.org/stable/modules/linear_model.html#logistic-regression\n",
            "  extra_warning_msg=_LOGISTIC_SOLVER_CONVERGENCE_MSG,\n"
          ]
        }
      ]
    },
    {
      "cell_type": "code",
      "source": [
        "import joblib\n",
        "url=\"https://raw.githubusercontent.com/jbrownlee/Datasets/master/pima-indians-diabetes.data.csv\"\n",
        "names=['preg','plas','pres','skin','test','mass','pedi','age','class']\n",
        "df=pandas.read_csv(url,names=names)\n",
        "array=df.values\n",
        "x=array[:,0:8]\n",
        "y=array[:,8]\n",
        "x_train,x_test,y_train,y_test=model_selection.train_test_split(x,y,test_size=0.30,random_state=7)\n",
        "\n",
        "#fit model on training set\n",
        "model=LogisticRegression()\n",
        "model.fit(x_train,y_train)\n",
        "#save the model using pickle\n",
        "filename=\"final_model.sav\"\n",
        "joblib.dump(model,filename)\n",
        "\n",
        "loadmodel=joblib.load(filename)\n",
        "result=loadmodel.score(x_test,y_test)\n",
        "print(result)"
      ],
      "metadata": {
        "colab": {
          "base_uri": "https://localhost:8080/"
        },
        "id": "Ci8B3KHMLhaP",
        "outputId": "4bb6d0b3-69e9-4986-cce8-a631cf219d33"
      },
      "execution_count": null,
      "outputs": [
        {
          "output_type": "stream",
          "name": "stdout",
          "text": [
            "0.7489177489177489\n"
          ]
        },
        {
          "output_type": "stream",
          "name": "stderr",
          "text": [
            "/usr/local/lib/python3.7/dist-packages/sklearn/linear_model/_logistic.py:818: ConvergenceWarning: lbfgs failed to converge (status=1):\n",
            "STOP: TOTAL NO. of ITERATIONS REACHED LIMIT.\n",
            "\n",
            "Increase the number of iterations (max_iter) or scale the data as shown in:\n",
            "    https://scikit-learn.org/stable/modules/preprocessing.html\n",
            "Please also refer to the documentation for alternative solver options:\n",
            "    https://scikit-learn.org/stable/modules/linear_model.html#logistic-regression\n",
            "  extra_warning_msg=_LOGISTIC_SOLVER_CONVERGENCE_MSG,\n"
          ]
        }
      ]
    },
    {
      "cell_type": "code",
      "source": [],
      "metadata": {
        "id": "GIb3Jm9GPwS3"
      },
      "execution_count": null,
      "outputs": []
    }
  ]
}